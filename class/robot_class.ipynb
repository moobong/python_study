{
 "cells": [
  {
   "cell_type": "markdown",
   "metadata": {},
   "source": [
    "## robot class test"
   ]
  },
  {
   "cell_type": "code",
   "execution_count": 1,
   "metadata": {},
   "outputs": [],
   "source": [
    "from robot_package.robots import ServiceRobot\n",
    "from robot_package.systems import Battery, Controller\n",
    "from robot_package.systems import CommunicationModule, NavigationSystem, UserInterface, LearningModule\n",
    "from robot_package.sensors import Sensor\n",
    "from robot_package.actuators import Actuator\n",
    "from robot_package.equipments import AirPurifier"
   ]
  },
  {
   "cell_type": "code",
   "execution_count": 2,
   "metadata": {},
   "outputs": [
    {
     "name": "stdout",
     "output_type": "stream",
     "text": [
      "Navigating to (10, 10) using GPS\n",
      "Air purifier started!\n",
      "Air purifier stopped!\n"
     ]
    }
   ],
   "source": [
    "# 로봇 구성 요소 및 장비 객체 생성\n",
    "camera = Sensor(\"camera\")\n",
    "arm = Actuator(\"arm\")\n",
    "battery_1000mAh = Battery(1000)\n",
    "central_controller = Controller(\"ARM Cortex-A53\", memory_size=2048, os=\"RobotOS v1.0\")\n",
    "wifi_module = CommunicationModule(\"Wi-Fi\")\n",
    "gps_nav = NavigationSystem(\"GPS\")\n",
    "touch_ui = UserInterface(\"touchscreen\")\n",
    "deep_learning_module = LearningModule()\n",
    "air_purifier = AirPurifier()\n",
    "\n",
    "# 서비스 로봇 객체 생성\n",
    "clean_bot = ServiceRobot(\"CleanBot\", camera, arm, battery_1000mAh, central_controller, wifi_module, gps_nav, touch_ui, deep_learning_module, air_purifier)\n",
    "\n",
    "# 로봇 동작 및 장비 사용 시뮬레이션\n",
    "print(clean_bot.move(10, 10))\n",
    "print(clean_bot.activate_equipment())\n",
    "print(clean_bot.deactivate_equipment())\n"
   ]
  },
  {
   "cell_type": "code",
   "execution_count": null,
   "metadata": {},
   "outputs": [],
   "source": []
  }
 ],
 "metadata": {
  "kernelspec": {
   "display_name": "eda_venv",
   "language": "python",
   "name": "python3"
  },
  "language_info": {
   "codemirror_mode": {
    "name": "ipython",
    "version": 3
   },
   "file_extension": ".py",
   "mimetype": "text/x-python",
   "name": "python",
   "nbconvert_exporter": "python",
   "pygments_lexer": "ipython3",
   "version": "3.11.4"
  },
  "orig_nbformat": 4
 },
 "nbformat": 4,
 "nbformat_minor": 2
}
